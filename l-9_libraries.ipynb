{
 "cells": [
  {
   "cell_type": "markdown",
   "id": "rubber-sport",
   "metadata": {
    "id": "rubber-sport"
   },
   "source": [
    "### Pandas\n",
    "\n",
    "Для некоторых заданий, возможно, придется обратиться к документации: https://pandas.pydata.org/docs/\n",
    "\n",
    "* Скачайте любой табличный датасет (или создайте тестовый пример самостоятельно), например, с https://www.kaggle.com/datasets\n",
    "\n",
    "*  Загрузите данные и проанализируйте их (используя функции .info и .describe)\n",
    "*  Выведите отдельно интересующую вас колонку и столбец"
   ]
  },
  {
   "cell_type": "markdown",
   "id": "recovered-jordan",
   "metadata": {
    "id": "recovered-jordan"
   },
   "source": [
    "### Numpy\n",
    "\n",
    "Для некоторых заданий, возможно, придется обратиться к документации: https://numpy.org\n",
    "\n",
    "* Создайте вектор (одномерный массив) размера 10, заполненный нулями\n",
    "* Создайте вектор размера 10, заполненный числом 5.8\n",
    "* Создйте массив 3x3x3 со случайными значениями\n",
    "* Создайте 8x8 матрицу и заполнить её в шахматном порядке\n",
    "* Cоздайте матрицу 4 на 4 и заполните ее произвольными числами (понадобиться в дальйнешем)"
   ]
  },
  {
   "cell_type": "code",
   "execution_count": null,
   "id": "a83e9b2e",
   "metadata": {},
   "outputs": [],
   "source": []
  },
  {
   "cell_type": "markdown",
   "id": "expired-hebrew",
   "metadata": {
    "id": "expired-hebrew"
   },
   "source": [
    "### Scipy\n",
    "\n",
    "\n",
    "* Возьмите интеграл $\\int_{-3}^{10} sin(x)* x^{2} \\,dx $\n",
    "* Найдите определитель, обратную матрицу и собственные значения к матрице из последнего пункта раздела Numpy\n"
   ]
  },
  {
   "cell_type": "markdown",
   "id": "alternate-classification",
   "metadata": {
    "id": "alternate-classification"
   },
   "source": [
    "### Matplotlib/Seaborn\n",
    "\n",
    "\n",
    "* Нарисуйте график sin(x), подпишите оси, добавьте сетку\n",
    "* Нарисуйте график sin(x) и cos(x) на одном subplot'е и на разных, задайте цвета, которые вам больше нравятся"
   ]
  },
  {
   "cell_type": "code",
   "execution_count": null,
   "id": "2f305aec",
   "metadata": {},
   "outputs": [],
   "source": []
  },
  {
   "cell_type": "code",
   "execution_count": 143,
   "id": "facial-persian",
   "metadata": {
    "id": "facial-persian"
   },
   "outputs": [
    {
     "name": "stdout",
     "output_type": "stream",
     "text": [
      "Инфо\n"
     ]
    },
    {
     "data": {
      "text/plain": [
       "<bound method DataFrame.info of                                 Title  Rating      Votes     Gross  \\\n",
       "0       Sen to Chihiro no kamikakushi     8.6    747,148   $10.06M   \n",
       "1                       The Lion King     8.5  1,041,158  $422.78M   \n",
       "2                      Hotaru no haka     8.5    272,469       NaN   \n",
       "3                      Kimi no na wa.     8.4    259,975    $5.02M   \n",
       "4   Spider-Man: Into the Spider-Verse     8.4    510,227  $190.24M   \n",
       "..                                ...     ...        ...       ...   \n",
       "80                      Kung Fu Panda     7.6    463,897  $215.43M   \n",
       "81                              Mulan     7.6    284,542  $120.62M   \n",
       "82                 The Little Mermaid     7.6    260,026  $111.54M   \n",
       "83                    The Jungle Book     7.6    181,528  $141.84M   \n",
       "84    Snow White and the Seven Dwarfs     7.6    197,860  $184.93M   \n",
       "\n",
       "                 Genre  Metascore Certificate             Director  Year  \\\n",
       "0    Adventure, Family       96.0           U       Hayao Miyazaki  2001   \n",
       "1     Adventure, Drama       88.0           U         Roger Allers  1994   \n",
       "2           Drama, War       94.0           U        Isao Takahata  1988   \n",
       "3       Drama, Fantasy       79.0           U       Makoto Shinkai  2016   \n",
       "4    Action, Adventure       87.0           U      Bob Persichetti  2018   \n",
       "..                 ...        ...         ...                  ...   ...   \n",
       "80   Action, Adventure       74.0           U         Mark Osborne  2008   \n",
       "81   Adventure, Comedy       71.0           U        Tony Bancroft  1998   \n",
       "82   Adventure, Comedy       88.0           U         Ron Clements  1989   \n",
       "83   Adventure, Comedy       65.0           U  Wolfgang Reitherman  1967   \n",
       "84   Adventure, Family       95.0           U     William Cottrell  1937   \n",
       "\n",
       "                                          Description  Runtime  \n",
       "0   [\"\\nDuring her family's move to the suburbs, a...  125 min  \n",
       "1   ['\\nLion prince Simba and his father are targe...   88 min  \n",
       "2   ['\\nA young boy and his little sister struggle...   89 min  \n",
       "3   ['\\nTwo strangers find themselves linked in a ...  106 min  \n",
       "4   ['\\nTeen Miles Morales becomes the Spider-Man ...  117 min  \n",
       "..                                                ...      ...  \n",
       "80  [\"\\nTo everyone's surprise, including his own,...   92 min  \n",
       "81  [\"\\nTo save her father from death in the army,...   88 min  \n",
       "82  [\"\\nA mermaid princess makes a Faustian bargai...   83 min  \n",
       "83  ['\\nBagheera the Panther and Baloo the Bear ha...   78 min  \n",
       "84  ['\\nExiled into the dangerous forest by her wi...   83 min  \n",
       "\n",
       "[85 rows x 11 columns]>"
      ]
     },
     "execution_count": 143,
     "metadata": {},
     "output_type": "execute_result"
    }
   ],
   "source": [
    "#Pundas Загрузите данные и проанализируйте их (используя функции .info и .describe)\n",
    "import pandas as pd\n",
    "data = pd.read_csv(r'C:\\Users\\Оксана\\Downloads\\archive\\TopAnimatedImDb.csv')\n",
    "print('Инфо')\n",
    "data.info"
   ]
  },
  {
   "cell_type": "code",
   "execution_count": 144,
   "id": "2bc36a24",
   "metadata": {},
   "outputs": [
    {
     "name": "stdout",
     "output_type": "stream",
     "text": [
      "Описание\n"
     ]
    },
    {
     "data": {
      "text/plain": [
       "<bound method NDFrame.describe of                                 Title  Rating      Votes     Gross  \\\n",
       "0       Sen to Chihiro no kamikakushi     8.6    747,148   $10.06M   \n",
       "1                       The Lion King     8.5  1,041,158  $422.78M   \n",
       "2                      Hotaru no haka     8.5    272,469       NaN   \n",
       "3                      Kimi no na wa.     8.4    259,975    $5.02M   \n",
       "4   Spider-Man: Into the Spider-Verse     8.4    510,227  $190.24M   \n",
       "..                                ...     ...        ...       ...   \n",
       "80                      Kung Fu Panda     7.6    463,897  $215.43M   \n",
       "81                              Mulan     7.6    284,542  $120.62M   \n",
       "82                 The Little Mermaid     7.6    260,026  $111.54M   \n",
       "83                    The Jungle Book     7.6    181,528  $141.84M   \n",
       "84    Snow White and the Seven Dwarfs     7.6    197,860  $184.93M   \n",
       "\n",
       "                 Genre  Metascore Certificate             Director  Year  \\\n",
       "0    Adventure, Family       96.0           U       Hayao Miyazaki  2001   \n",
       "1     Adventure, Drama       88.0           U         Roger Allers  1994   \n",
       "2           Drama, War       94.0           U        Isao Takahata  1988   \n",
       "3       Drama, Fantasy       79.0           U       Makoto Shinkai  2016   \n",
       "4    Action, Adventure       87.0           U      Bob Persichetti  2018   \n",
       "..                 ...        ...         ...                  ...   ...   \n",
       "80   Action, Adventure       74.0           U         Mark Osborne  2008   \n",
       "81   Adventure, Comedy       71.0           U        Tony Bancroft  1998   \n",
       "82   Adventure, Comedy       88.0           U         Ron Clements  1989   \n",
       "83   Adventure, Comedy       65.0           U  Wolfgang Reitherman  1967   \n",
       "84   Adventure, Family       95.0           U     William Cottrell  1937   \n",
       "\n",
       "                                          Description  Runtime  \n",
       "0   [\"\\nDuring her family's move to the suburbs, a...  125 min  \n",
       "1   ['\\nLion prince Simba and his father are targe...   88 min  \n",
       "2   ['\\nA young boy and his little sister struggle...   89 min  \n",
       "3   ['\\nTwo strangers find themselves linked in a ...  106 min  \n",
       "4   ['\\nTeen Miles Morales becomes the Spider-Man ...  117 min  \n",
       "..                                                ...      ...  \n",
       "80  [\"\\nTo everyone's surprise, including his own,...   92 min  \n",
       "81  [\"\\nTo save her father from death in the army,...   88 min  \n",
       "82  [\"\\nA mermaid princess makes a Faustian bargai...   83 min  \n",
       "83  ['\\nBagheera the Panther and Baloo the Bear ha...   78 min  \n",
       "84  ['\\nExiled into the dangerous forest by her wi...   83 min  \n",
       "\n",
       "[85 rows x 11 columns]>"
      ]
     },
     "execution_count": 144,
     "metadata": {},
     "output_type": "execute_result"
    }
   ],
   "source": [
    "print('Описание')\n",
    "data.describe"
   ]
  },
  {
   "cell_type": "code",
   "execution_count": 150,
   "id": "466207eb",
   "metadata": {},
   "outputs": [
    {
     "data": {
      "text/plain": [
       "(0     U\n",
       " 1     U\n",
       " 2     U\n",
       " 3     U\n",
       " 4     U\n",
       "      ..\n",
       " 80    U\n",
       " 81    U\n",
       " 82    U\n",
       " 83    U\n",
       " 84    U\n",
       " Name: Certificate, Length: 85, dtype: object,\n",
       " 0     2001\n",
       " 1     1994\n",
       " 2     1988\n",
       " 3     2016\n",
       " 4     2018\n",
       "       ... \n",
       " 80    2008\n",
       " 81    1998\n",
       " 82    1989\n",
       " 83    1967\n",
       " 84    1937\n",
       " Name: Year, Length: 85, dtype: int64,\n",
       " 0          Hayao Miyazaki\n",
       " 1            Roger Allers\n",
       " 2           Isao Takahata\n",
       " 3          Makoto Shinkai\n",
       " 4         Bob Persichetti\n",
       "              ...         \n",
       " 80           Mark Osborne\n",
       " 81          Tony Bancroft\n",
       " 82           Ron Clements\n",
       " 83    Wolfgang Reitherman\n",
       " 84       William Cottrell\n",
       " Name: Director, Length: 85, dtype: object)"
      ]
     },
     "execution_count": 150,
     "metadata": {},
     "output_type": "execute_result"
    }
   ],
   "source": [
    "data.Certificate, data.Year, data.Director"
   ]
  },
  {
   "cell_type": "code",
   "execution_count": 151,
   "id": "9e955917",
   "metadata": {},
   "outputs": [
    {
     "data": {
      "text/plain": [
       "array([[0., 0., 0., 0., 0., 0., 0., 0., 0., 0.]])"
      ]
     },
     "execution_count": 151,
     "metadata": {},
     "output_type": "execute_result"
    }
   ],
   "source": [
    "#Nympy Создайте вектор (одномерный массив) размера 10, заполненный нулями\n",
    "import numpy as np\n",
    "import random\n",
    "vector = np.zeros((1,10))\n",
    "vector"
   ]
  },
  {
   "cell_type": "code",
   "execution_count": 154,
   "id": "5344d5f1",
   "metadata": {},
   "outputs": [
    {
     "data": {
      "text/plain": [
       "array([[5.8, 5.8, 5.8, 5.8, 5.8, 5.8, 5.8, 5.8, 5.8, 5.8]])"
      ]
     },
     "execution_count": 154,
     "metadata": {},
     "output_type": "execute_result"
    }
   ],
   "source": [
    "# Создайте вектор размера 10, заполненный числом 5.8\n",
    "vector2 = np.ones((1,10))*5.8\n",
    "vector2"
   ]
  },
  {
   "cell_type": "code",
   "execution_count": 162,
   "id": "b9dd02b2",
   "metadata": {},
   "outputs": [
    {
     "data": {
      "text/plain": [
       "array([[[13.59, 48.9 , 17.55],\n",
       "        [ 5.88, 23.4 , 53.01],\n",
       "        [59.18, 79.47, 65.11]],\n",
       "\n",
       "       [[80.47, 53.66, 42.57],\n",
       "        [28.53,  2.74, 61.76],\n",
       "        [60.21, 16.36, 78.8 ]],\n",
       "\n",
       "       [[85.  ,  1.38,  3.12],\n",
       "        [19.28, 99.52, 31.52],\n",
       "        [41.63, 79.04, 42.01]]])"
      ]
     },
     "execution_count": 162,
     "metadata": {},
     "output_type": "execute_result"
    }
   ],
   "source": [
    "#Создйте массив 3x3x3 со случайными значениями\n",
    "array_1 = np.random.random((3,3,3))*100\n",
    "array_1.round(2)"
   ]
  },
  {
   "cell_type": "code",
   "execution_count": 163,
   "id": "6bbce872",
   "metadata": {},
   "outputs": [
    {
     "data": {
      "text/plain": [
       "array([[0., 1., 0., 1., 0., 1., 0., 1.],\n",
       "       [1., 0., 1., 0., 1., 0., 1., 0.],\n",
       "       [0., 1., 0., 1., 0., 1., 0., 1.],\n",
       "       [1., 0., 1., 0., 1., 0., 1., 0.],\n",
       "       [0., 1., 0., 1., 0., 1., 0., 1.],\n",
       "       [1., 0., 1., 0., 1., 0., 1., 0.],\n",
       "       [0., 1., 0., 1., 0., 1., 0., 1.],\n",
       "       [1., 0., 1., 0., 1., 0., 1., 0.]])"
      ]
     },
     "execution_count": 163,
     "metadata": {},
     "output_type": "execute_result"
    }
   ],
   "source": [
    "#Создайте 8x8 матрицу и заполнить её в шахматном порядке\n",
    "matrix = np.zeros((8,8))\n",
    "\n",
    "matrix[1::2,::2] = 1 #1 - берется 1 строка ::2 шаг через строку после , заполняем ел с шагом 2 начиная с 0 (четные строки)\n",
    "matrix[::2,1::2] = 1 # начинаем с 0 строки с шагом 2 в строке см с 1 ел с шагом 2 (нечетные строки)\n",
    "matrix"
   ]
  },
  {
   "cell_type": "code",
   "execution_count": 178,
   "id": "f5f1fbba",
   "metadata": {},
   "outputs": [
    {
     "data": {
      "text/plain": [
       "array([[922.78, 197.57, 538.04, 796.12],\n",
       "       [451.23, 202.14, 594.82, 840.71],\n",
       "       [ 73.16,  29.55, 217.64, 174.78],\n",
       "       [979.47, 487.45, 752.32, 680.37]])"
      ]
     },
     "execution_count": 178,
     "metadata": {},
     "output_type": "execute_result"
    }
   ],
   "source": [
    "#Cоздайте матрицу 4 на 4 и заполните ее произвольными числами (понадобиться в дальйнешем)\n",
    "matrix2 = np.random.random((4,4))*1000\n",
    "a = matrix2.round(2)\n",
    "a"
   ]
  },
  {
   "cell_type": "code",
   "execution_count": 166,
   "id": "a83b6205",
   "metadata": {},
   "outputs": [
    {
     "data": {
      "text/plain": [
       "(63.57192010714263, 2.1778037844715755e-12)"
      ]
     },
     "execution_count": 166,
     "metadata": {},
     "output_type": "execute_result"
    }
   ],
   "source": [
    "from scipy import integrate\n",
    "f1 = lambda x: np.sin(x)*x**2\n",
    "integrate.quad(f1, -3, 10)\n"
   ]
  },
  {
   "cell_type": "code",
   "execution_count": 242,
   "id": "29948fc0",
   "metadata": {},
   "outputs": [
    {
     "data": {
      "text/plain": [
       "(array([-607.10674775,  -14.72152466,  461.54742736, 2183.21084505]),\n",
       " array([[ 0.35757387,  0.4432962 ,  0.52345487,  0.63373843],\n",
       "        [ 0.19664032, -0.89615915,  0.25047622,  0.30901946],\n",
       "        [ 0.59379458,  0.01513089, -0.75493568,  0.27794096],\n",
       "        [-0.69345621, -0.01258226, -0.30549759,  0.65240432]]))"
      ]
     },
     "execution_count": 242,
     "metadata": {},
     "output_type": "execute_result"
    }
   ],
   "source": [
    "#Найдите определитель, обратную матрицу и собственные значения к матрице из последнего пункта раздела Numpy\n",
    "from scipy import linalg\n",
    "linalg.det(a), linalg.inv(a), linalg.eigh(a) \n"
   ]
  },
  {
   "cell_type": "code",
   "execution_count": 225,
   "id": "1e9ca10d",
   "metadata": {},
   "outputs": [
    {
     "data": {
      "image/png": "[encoded data removed]",
      "text/plain": [
       "<Figure size 432x288 with 1 Axes>"
      ]
     },
     "metadata": {
      "needs_background": "light"
     },
     "output_type": "display_data"
    }
   ],
   "source": [
    "# Нарисуйте график sin(x), подпишите оси, добавьте сетку\n",
    "import matplotlib.pyplot as plt\n",
    "import seaborn as sns\n",
    "x = np.arange(-5.0, 5.0, 0.2)\n",
    "y = np.sin(x)\n",
    "fig, ax = plt.subplots()\n",
    "ax.vlines(0, y.min(), y.max(), color = 'black')\n",
    "ax.hlines(0, -5.5, 5.5, color = 'black')\n",
    "plt.plot(x, y, 'r-')\n",
    "plt.grid()\n",
    "plt.title('График sin(x)')\n",
    "\n",
    "plt.ylabel('y')\n",
    "plt.xlabel('x');"
   ]
  },
  {
   "cell_type": "code",
   "execution_count": 230,
   "id": "9ab889b0",
   "metadata": {},
   "outputs": [
    {
     "data": {
      "image/png": "[encoded data removed]",
      "text/plain": [
       "<Figure size 432x288 with 1 Axes>"
      ]
     },
     "metadata": {
      "needs_background": "light"
     },
     "output_type": "display_data"
    }
   ],
   "source": [
    "# Нарисуйте график sin(x) и cos(x) на одном subplot'е и на разных, задайте цвета, которые вам больше нравятся\n",
    "x2 = np.arange(-5.0, 5.0, 0.2)\n",
    "y2 = np.sin(x)\n",
    "x3 = np.arange(-5.0, 5.0, 0.2)\n",
    "y4 = np.cos(x)\n",
    "fig  = plt.subplots()\n",
    "\n",
    "plt.plot(x2, y2, 'r-')\n",
    "plt.plot(x3, y4, 'b-')\n",
    "plt.grid()\n",
    "plt.title('График sin(x) и cos(x)')\n",
    "\n",
    "plt.ylabel('y')\n",
    "plt.xlabel('x');\n",
    "\n"
   ]
  },
  {
   "cell_type": "code",
   "execution_count": 238,
   "id": "6a14ce71",
   "metadata": {},
   "outputs": [
    {
     "data": {
      "image/png": "[encoded data removed]",
      "text/plain": [
       "<Figure size 432x288 with 2 Axes>"
      ]
     },
     "metadata": {
      "needs_background": "light"
     },
     "output_type": "display_data"
    }
   ],
   "source": [
    "plt.subplot(2, 1, 1)\n",
    "plt.grid()\n",
    "plt.title('График sin(x)')\n",
    "plt.plot(x2, y2, 'r')\n",
    "plt.subplot(2, 1, 2)\n",
    "plt.grid()\n",
    "plt.title('График cos(x)')\n",
    "plt.plot(x3, y4, 'b')\n",
    "plt.ylabel('y')\n",
    "plt.xlabel('x')\n",
    "plt.show();"
   ]
  }
 ],
 "metadata": {
  "colab": {
   "name": "ДЗ. Знакомство с библиотеками.ipynb",
   "provenance": []
  },
  "kernelspec": {
   "display_name": "Python 3 (ipykernel)",
   "language": "python",
   "name": "python3"
  },
  "language_info": {
   "codemirror_mode": {
    "name": "ipython",
    "version": 3
   },
   "file_extension": ".py",
   "mimetype": "text/x-python",
   "name": "python",
   "nbconvert_exporter": "python",
   "pygments_lexer": "ipython3",
   "version": "3.9.12"
  }
 },
 "nbformat": 4,
 "nbformat_minor": 5
}
