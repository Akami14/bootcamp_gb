{
 "cells": [
  {
   "cell_type": "markdown",
   "id": "designed-lucas",
   "metadata": {
    "id": "designed-lucas"
   },
   "source": [
    "### Pandas\n",
    "\n",
    "* Скачайте любой табличный датасет (можете использовать тот же, что и в дз к занятию \"Знакомство с библиотеками\"), например, с https://www.kaggle.com/datasets\n",
    "* Проведите поноценный EDA \n",
    "    * \"погрузитесь\" в данные\n",
    "    * составьте описание измерений из датасета\n",
    "    * очистите данные, если это необходимо\n",
    "    * попробуйте создать дополнительные переменные, которые могут помочь лучше понять данные"
   ]
  },
  {
   "cell_type": "code",
   "execution_count": 259,
   "id": "b16d28d1",
   "metadata": {},
   "outputs": [
    {
     "data": {
      "text/plain": [
       "('Информация о датасете',\n",
       " <bound method DataFrame.info of                                 Title  Rating      Votes     Gross  \\\n",
       " 0       Sen to Chihiro no kamikakushi     8.6    747,148   $10.06M   \n",
       " 1                       The Lion King     8.5  1,041,158  $422.78M   \n",
       " 2                      Hotaru no haka     8.5    272,469       NaN   \n",
       " 3                      Kimi no na wa.     8.4    259,975    $5.02M   \n",
       " 4   Spider-Man: Into the Spider-Verse     8.4    510,227  $190.24M   \n",
       " ..                                ...     ...        ...       ...   \n",
       " 80                      Kung Fu Panda     7.6    463,897  $215.43M   \n",
       " 81                              Mulan     7.6    284,542  $120.62M   \n",
       " 82                 The Little Mermaid     7.6    260,026  $111.54M   \n",
       " 83                    The Jungle Book     7.6    181,528  $141.84M   \n",
       " 84    Snow White and the Seven Dwarfs     7.6    197,860  $184.93M   \n",
       " \n",
       "                  Genre  Metascore Certificate             Director  Year  \\\n",
       " 0    Adventure, Family       96.0           U       Hayao Miyazaki  2001   \n",
       " 1     Adventure, Drama       88.0           U         Roger Allers  1994   \n",
       " 2           Drama, War       94.0           U        Isao Takahata  1988   \n",
       " 3       Drama, Fantasy       79.0           U       Makoto Shinkai  2016   \n",
       " 4    Action, Adventure       87.0           U      Bob Persichetti  2018   \n",
       " ..                 ...        ...         ...                  ...   ...   \n",
       " 80   Action, Adventure       74.0           U         Mark Osborne  2008   \n",
       " 81   Adventure, Comedy       71.0           U        Tony Bancroft  1998   \n",
       " 82   Adventure, Comedy       88.0           U         Ron Clements  1989   \n",
       " 83   Adventure, Comedy       65.0           U  Wolfgang Reitherman  1967   \n",
       " 84   Adventure, Family       95.0           U     William Cottrell  1937   \n",
       " \n",
       "                                           Description  Runtime  \n",
       " 0   [\"\\nDuring her family's move to the suburbs, a...  125 min  \n",
       " 1   ['\\nLion prince Simba and his father are targe...   88 min  \n",
       " 2   ['\\nA young boy and his little sister struggle...   89 min  \n",
       " 3   ['\\nTwo strangers find themselves linked in a ...  106 min  \n",
       " 4   ['\\nTeen Miles Morales becomes the Spider-Man ...  117 min  \n",
       " ..                                                ...      ...  \n",
       " 80  [\"\\nTo everyone's surprise, including his own,...   92 min  \n",
       " 81  [\"\\nTo save her father from death in the army,...   88 min  \n",
       " 82  [\"\\nA mermaid princess makes a Faustian bargai...   83 min  \n",
       " 83  ['\\nBagheera the Panther and Baloo the Bear ha...   78 min  \n",
       " 84  ['\\nExiled into the dangerous forest by her wi...   83 min  \n",
       " \n",
       " [85 rows x 11 columns]>,\n",
       " (85, 11))"
      ]
     },
     "execution_count": 259,
     "metadata": {},
     "output_type": "execute_result"
    }
   ],
   "source": [
    "import pandas as pd\n",
    "data = pd.read_csv(r'C:\\Users\\Оксана\\Downloads\\archive\\TopAnimatedImDb.csv')\n",
    "'Информация о датасете', data.info, data.shape"
   ]
  },
  {
   "cell_type": "code",
   "execution_count": 260,
   "id": "6f8fbd88",
   "metadata": {},
   "outputs": [
    {
     "data": {
      "text/html": [
       "<div>\n",
       "<style scoped>\n",
       "    .dataframe tbody tr th:only-of-type {\n",
       "        vertical-align: middle;\n",
       "    }\n",
       "\n",
       "    .dataframe tbody tr th {\n",
       "        vertical-align: top;\n",
       "    }\n",
       "\n",
       "    .dataframe thead th {\n",
       "        text-align: right;\n",
       "    }\n",
       "</style>\n",
       "<table border=\"1\" class=\"dataframe\">\n",
       "  <thead>\n",
       "    <tr style=\"text-align: right;\">\n",
       "      <th></th>\n",
       "      <th>Rating</th>\n",
       "      <th>Metascore</th>\n",
       "      <th>Year</th>\n",
       "    </tr>\n",
       "  </thead>\n",
       "  <tbody>\n",
       "    <tr>\n",
       "      <th>count</th>\n",
       "      <td>85.000000</td>\n",
       "      <td>80.000000</td>\n",
       "      <td>85.000000</td>\n",
       "    </tr>\n",
       "    <tr>\n",
       "      <th>mean</th>\n",
       "      <td>7.922353</td>\n",
       "      <td>80.850000</td>\n",
       "      <td>2003.211765</td>\n",
       "    </tr>\n",
       "    <tr>\n",
       "      <th>std</th>\n",
       "      <td>0.257449</td>\n",
       "      <td>8.965616</td>\n",
       "      <td>15.255830</td>\n",
       "    </tr>\n",
       "    <tr>\n",
       "      <th>min</th>\n",
       "      <td>7.600000</td>\n",
       "      <td>59.000000</td>\n",
       "      <td>1937.000000</td>\n",
       "    </tr>\n",
       "    <tr>\n",
       "      <th>25%</th>\n",
       "      <td>7.700000</td>\n",
       "      <td>74.000000</td>\n",
       "      <td>1995.000000</td>\n",
       "    </tr>\n",
       "    <tr>\n",
       "      <th>50%</th>\n",
       "      <td>7.900000</td>\n",
       "      <td>82.000000</td>\n",
       "      <td>2007.000000</td>\n",
       "    </tr>\n",
       "    <tr>\n",
       "      <th>75%</th>\n",
       "      <td>8.100000</td>\n",
       "      <td>87.000000</td>\n",
       "      <td>2014.000000</td>\n",
       "    </tr>\n",
       "    <tr>\n",
       "      <th>max</th>\n",
       "      <td>8.600000</td>\n",
       "      <td>96.000000</td>\n",
       "      <td>2021.000000</td>\n",
       "    </tr>\n",
       "  </tbody>\n",
       "</table>\n",
       "</div>"
      ],
      "text/plain": [
       "          Rating  Metascore         Year\n",
       "count  85.000000  80.000000    85.000000\n",
       "mean    7.922353  80.850000  2003.211765\n",
       "std     0.257449   8.965616    15.255830\n",
       "min     7.600000  59.000000  1937.000000\n",
       "25%     7.700000  74.000000  1995.000000\n",
       "50%     7.900000  82.000000  2007.000000\n",
       "75%     8.100000  87.000000  2014.000000\n",
       "max     8.600000  96.000000  2021.000000"
      ]
     },
     "execution_count": 260,
     "metadata": {},
     "output_type": "execute_result"
    }
   ],
   "source": [
    "data.describe()"
   ]
  },
  {
   "cell_type": "code",
   "execution_count": 261,
   "id": "eligible-finding",
   "metadata": {
    "id": "eligible-finding",
    "scrolled": true
   },
   "outputs": [
    {
     "data": {
      "text/html": [
       "<div>\n",
       "<style scoped>\n",
       "    .dataframe tbody tr th:only-of-type {\n",
       "        vertical-align: middle;\n",
       "    }\n",
       "\n",
       "    .dataframe tbody tr th {\n",
       "        vertical-align: top;\n",
       "    }\n",
       "\n",
       "    .dataframe thead th {\n",
       "        text-align: right;\n",
       "    }\n",
       "</style>\n",
       "<table border=\"1\" class=\"dataframe\">\n",
       "  <thead>\n",
       "    <tr style=\"text-align: right;\">\n",
       "      <th></th>\n",
       "      <th>Title</th>\n",
       "      <th>Rating</th>\n",
       "      <th>Votes</th>\n",
       "      <th>Gross</th>\n",
       "      <th>Genre</th>\n",
       "      <th>Metascore</th>\n",
       "      <th>Certificate</th>\n",
       "      <th>Director</th>\n",
       "      <th>Year</th>\n",
       "      <th>Description</th>\n",
       "      <th>Runtime</th>\n",
       "    </tr>\n",
       "  </thead>\n",
       "  <tbody>\n",
       "    <tr>\n",
       "      <th>0</th>\n",
       "      <td>Sen to Chihiro no kamikakushi</td>\n",
       "      <td>8.6</td>\n",
       "      <td>747,148</td>\n",
       "      <td>$10.06M</td>\n",
       "      <td>Adventure, Family</td>\n",
       "      <td>96.0</td>\n",
       "      <td>U</td>\n",
       "      <td>Hayao Miyazaki</td>\n",
       "      <td>2001</td>\n",
       "      <td>[\"\\nDuring her family's move to the suburbs, a...</td>\n",
       "      <td>125 min</td>\n",
       "    </tr>\n",
       "    <tr>\n",
       "      <th>1</th>\n",
       "      <td>The Lion King</td>\n",
       "      <td>8.5</td>\n",
       "      <td>1,041,158</td>\n",
       "      <td>$422.78M</td>\n",
       "      <td>Adventure, Drama</td>\n",
       "      <td>88.0</td>\n",
       "      <td>U</td>\n",
       "      <td>Roger Allers</td>\n",
       "      <td>1994</td>\n",
       "      <td>['\\nLion prince Simba and his father are targe...</td>\n",
       "      <td>88 min</td>\n",
       "    </tr>\n",
       "    <tr>\n",
       "      <th>2</th>\n",
       "      <td>Hotaru no haka</td>\n",
       "      <td>8.5</td>\n",
       "      <td>272,469</td>\n",
       "      <td>NaN</td>\n",
       "      <td>Drama, War</td>\n",
       "      <td>94.0</td>\n",
       "      <td>U</td>\n",
       "      <td>Isao Takahata</td>\n",
       "      <td>1988</td>\n",
       "      <td>['\\nA young boy and his little sister struggle...</td>\n",
       "      <td>89 min</td>\n",
       "    </tr>\n",
       "    <tr>\n",
       "      <th>3</th>\n",
       "      <td>Kimi no na wa.</td>\n",
       "      <td>8.4</td>\n",
       "      <td>259,975</td>\n",
       "      <td>$5.02M</td>\n",
       "      <td>Drama, Fantasy</td>\n",
       "      <td>79.0</td>\n",
       "      <td>U</td>\n",
       "      <td>Makoto Shinkai</td>\n",
       "      <td>2016</td>\n",
       "      <td>['\\nTwo strangers find themselves linked in a ...</td>\n",
       "      <td>106 min</td>\n",
       "    </tr>\n",
       "    <tr>\n",
       "      <th>4</th>\n",
       "      <td>Spider-Man: Into the Spider-Verse</td>\n",
       "      <td>8.4</td>\n",
       "      <td>510,227</td>\n",
       "      <td>$190.24M</td>\n",
       "      <td>Action, Adventure</td>\n",
       "      <td>87.0</td>\n",
       "      <td>U</td>\n",
       "      <td>Bob Persichetti</td>\n",
       "      <td>2018</td>\n",
       "      <td>['\\nTeen Miles Morales becomes the Spider-Man ...</td>\n",
       "      <td>117 min</td>\n",
       "    </tr>\n",
       "    <tr>\n",
       "      <th>...</th>\n",
       "      <td>...</td>\n",
       "      <td>...</td>\n",
       "      <td>...</td>\n",
       "      <td>...</td>\n",
       "      <td>...</td>\n",
       "      <td>...</td>\n",
       "      <td>...</td>\n",
       "      <td>...</td>\n",
       "      <td>...</td>\n",
       "      <td>...</td>\n",
       "      <td>...</td>\n",
       "    </tr>\n",
       "    <tr>\n",
       "      <th>80</th>\n",
       "      <td>Kung Fu Panda</td>\n",
       "      <td>7.6</td>\n",
       "      <td>463,897</td>\n",
       "      <td>$215.43M</td>\n",
       "      <td>Action, Adventure</td>\n",
       "      <td>74.0</td>\n",
       "      <td>U</td>\n",
       "      <td>Mark Osborne</td>\n",
       "      <td>2008</td>\n",
       "      <td>[\"\\nTo everyone's surprise, including his own,...</td>\n",
       "      <td>92 min</td>\n",
       "    </tr>\n",
       "    <tr>\n",
       "      <th>81</th>\n",
       "      <td>Mulan</td>\n",
       "      <td>7.6</td>\n",
       "      <td>284,542</td>\n",
       "      <td>$120.62M</td>\n",
       "      <td>Adventure, Comedy</td>\n",
       "      <td>71.0</td>\n",
       "      <td>U</td>\n",
       "      <td>Tony Bancroft</td>\n",
       "      <td>1998</td>\n",
       "      <td>[\"\\nTo save her father from death in the army,...</td>\n",
       "      <td>88 min</td>\n",
       "    </tr>\n",
       "    <tr>\n",
       "      <th>82</th>\n",
       "      <td>The Little Mermaid</td>\n",
       "      <td>7.6</td>\n",
       "      <td>260,026</td>\n",
       "      <td>$111.54M</td>\n",
       "      <td>Adventure, Comedy</td>\n",
       "      <td>88.0</td>\n",
       "      <td>U</td>\n",
       "      <td>Ron Clements</td>\n",
       "      <td>1989</td>\n",
       "      <td>[\"\\nA mermaid princess makes a Faustian bargai...</td>\n",
       "      <td>83 min</td>\n",
       "    </tr>\n",
       "    <tr>\n",
       "      <th>83</th>\n",
       "      <td>The Jungle Book</td>\n",
       "      <td>7.6</td>\n",
       "      <td>181,528</td>\n",
       "      <td>$141.84M</td>\n",
       "      <td>Adventure, Comedy</td>\n",
       "      <td>65.0</td>\n",
       "      <td>U</td>\n",
       "      <td>Wolfgang Reitherman</td>\n",
       "      <td>1967</td>\n",
       "      <td>['\\nBagheera the Panther and Baloo the Bear ha...</td>\n",
       "      <td>78 min</td>\n",
       "    </tr>\n",
       "    <tr>\n",
       "      <th>84</th>\n",
       "      <td>Snow White and the Seven Dwarfs</td>\n",
       "      <td>7.6</td>\n",
       "      <td>197,860</td>\n",
       "      <td>$184.93M</td>\n",
       "      <td>Adventure, Family</td>\n",
       "      <td>95.0</td>\n",
       "      <td>U</td>\n",
       "      <td>William Cottrell</td>\n",
       "      <td>1937</td>\n",
       "      <td>['\\nExiled into the dangerous forest by her wi...</td>\n",
       "      <td>83 min</td>\n",
       "    </tr>\n",
       "  </tbody>\n",
       "</table>\n",
       "<p>85 rows × 11 columns</p>\n",
       "</div>"
      ],
      "text/plain": [
       "                                Title  Rating      Votes     Gross  \\\n",
       "0       Sen to Chihiro no kamikakushi     8.6    747,148   $10.06M   \n",
       "1                       The Lion King     8.5  1,041,158  $422.78M   \n",
       "2                      Hotaru no haka     8.5    272,469       NaN   \n",
       "3                      Kimi no na wa.     8.4    259,975    $5.02M   \n",
       "4   Spider-Man: Into the Spider-Verse     8.4    510,227  $190.24M   \n",
       "..                                ...     ...        ...       ...   \n",
       "80                      Kung Fu Panda     7.6    463,897  $215.43M   \n",
       "81                              Mulan     7.6    284,542  $120.62M   \n",
       "82                 The Little Mermaid     7.6    260,026  $111.54M   \n",
       "83                    The Jungle Book     7.6    181,528  $141.84M   \n",
       "84    Snow White and the Seven Dwarfs     7.6    197,860  $184.93M   \n",
       "\n",
       "                 Genre  Metascore Certificate             Director  Year  \\\n",
       "0    Adventure, Family       96.0           U       Hayao Miyazaki  2001   \n",
       "1     Adventure, Drama       88.0           U         Roger Allers  1994   \n",
       "2           Drama, War       94.0           U        Isao Takahata  1988   \n",
       "3       Drama, Fantasy       79.0           U       Makoto Shinkai  2016   \n",
       "4    Action, Adventure       87.0           U      Bob Persichetti  2018   \n",
       "..                 ...        ...         ...                  ...   ...   \n",
       "80   Action, Adventure       74.0           U         Mark Osborne  2008   \n",
       "81   Adventure, Comedy       71.0           U        Tony Bancroft  1998   \n",
       "82   Adventure, Comedy       88.0           U         Ron Clements  1989   \n",
       "83   Adventure, Comedy       65.0           U  Wolfgang Reitherman  1967   \n",
       "84   Adventure, Family       95.0           U     William Cottrell  1937   \n",
       "\n",
       "                                          Description  Runtime  \n",
       "0   [\"\\nDuring her family's move to the suburbs, a...  125 min  \n",
       "1   ['\\nLion prince Simba and his father are targe...   88 min  \n",
       "2   ['\\nA young boy and his little sister struggle...   89 min  \n",
       "3   ['\\nTwo strangers find themselves linked in a ...  106 min  \n",
       "4   ['\\nTeen Miles Morales becomes the Spider-Man ...  117 min  \n",
       "..                                                ...      ...  \n",
       "80  [\"\\nTo everyone's surprise, including his own,...   92 min  \n",
       "81  [\"\\nTo save her father from death in the army,...   88 min  \n",
       "82  [\"\\nA mermaid princess makes a Faustian bargai...   83 min  \n",
       "83  ['\\nBagheera the Panther and Baloo the Bear ha...   78 min  \n",
       "84  ['\\nExiled into the dangerous forest by her wi...   83 min  \n",
       "\n",
       "[85 rows x 11 columns]"
      ]
     },
     "execution_count": 261,
     "metadata": {},
     "output_type": "execute_result"
    }
   ],
   "source": [
    "data"
   ]
  },
  {
   "cell_type": "code",
   "execution_count": 262,
   "id": "691e14ce",
   "metadata": {},
   "outputs": [
    {
     "data": {
      "text/plain": [
       "array(['U', 'UA', '16', '7', nan, 'PG', 'PG-13', 'Not Rated', 'A', 'R',\n",
       "       '13'], dtype=object)"
      ]
     },
     "execution_count": 262,
     "metadata": {},
     "output_type": "execute_result"
    }
   ],
   "source": [
    "data['Certificate'].unique()"
   ]
  },
  {
   "cell_type": "code",
   "execution_count": 263,
   "id": "ef7a9631",
   "metadata": {},
   "outputs": [
    {
     "data": {
      "text/plain": [
       "array(['$10.06M', '$422.78M', nan, '$5.02M', '$190.24M', '$209.73M',\n",
       "       '$223.81M', '$2.38M', '$293.00M', '$415.00M', '$191.80M',\n",
       "       '$356.46M', '$4.71M', '$380.84M', '$217.58M', '$206.45M',\n",
       "       '$289.92M', '$23.16M', '$1.11M', '$261.44M', '$217.35M', '$0.19M',\n",
       "       '$1.00M', '$5.62M', '$48.02M', '$0.31M', '$0.77M', '$0.29M',\n",
       "       '$5.21M', '$434.04M', '$189.42M', '$1.34M', '$257.76M', '$0.88M',\n",
       "       '$200.82M', '$75.29M', '$7.00M', '$2.89M', '$52.04M', '$156.45M',\n",
       "       '$76.41M', '$608.58M', '$248.76M', '$251.51M', '$15.09M',\n",
       "       '$215.43M', '$120.62M', '$111.54M', '$141.84M', '$184.93M'],\n",
       "      dtype=object)"
      ]
     },
     "execution_count": 263,
     "metadata": {},
     "output_type": "execute_result"
    }
   ],
   "source": [
    "data['Gross'].unique()"
   ]
  },
  {
   "cell_type": "code",
   "execution_count": 264,
   "id": "020ef43a",
   "metadata": {},
   "outputs": [
    {
     "data": {
      "text/plain": [
       "Title           0\n",
       "Rating          0\n",
       "Votes           0\n",
       "Gross          35\n",
       "Genre           0\n",
       "Metascore       5\n",
       "Certificate     1\n",
       "Director        0\n",
       "Year            0\n",
       "Description     0\n",
       "Runtime         0\n",
       "dtype: int64"
      ]
     },
     "execution_count": 264,
     "metadata": {},
     "output_type": "execute_result"
    }
   ],
   "source": [
    "data.isnull().sum() # половина сборов не известна можно анализировать там где она известна или попробовать анализировать без "
   ]
  },
  {
   "cell_type": "code",
   "execution_count": 271,
   "id": "f65fd079",
   "metadata": {},
   "outputs": [
    {
     "data": {
      "text/plain": [
       "0      10.06\n",
       "1     422.78\n",
       "2        NaN\n",
       "3       5.02\n",
       "4     190.24\n",
       "       ...  \n",
       "80    215.43\n",
       "81    120.62\n",
       "82    111.54\n",
       "83    141.84\n",
       "84    184.93\n",
       "Name: Gross, Length: 85, dtype: float64"
      ]
     },
     "execution_count": 271,
     "metadata": {},
     "output_type": "execute_result"
    }
   ],
   "source": [
    "# Преобразовываем данные Gross к float\n",
    "data = data.replace({'Gross': r'^\\$'}, {'Gross': ''}, regex=True) # сначала выполним замены\n",
    "data = data.replace({'Gross': r'M$'}, {'Gross': ''}, regex=True)\n",
    "data['Gross'] = pd.to_numeric(data['Gross'], errors='coerce')\n",
    "data['Gross']"
   ]
  },
  {
   "cell_type": "code",
   "execution_count": 273,
   "id": "54b5b6db",
   "metadata": {},
   "outputs": [
    {
     "data": {
      "text/plain": [
       "0      747148\n",
       "1     1041158\n",
       "2      272469\n",
       "3      259975\n",
       "4      510227\n",
       "       ...   \n",
       "80     463897\n",
       "81     284542\n",
       "82     260026\n",
       "83     181528\n",
       "84     197860\n",
       "Name: Votes, Length: 85, dtype: int64"
      ]
     },
     "execution_count": 273,
     "metadata": {},
     "output_type": "execute_result"
    }
   ],
   "source": [
    "data = data.replace({'Votes': r','}, {'Votes': ''}, regex=True) # заменим , в Voits для преоброзования к int\n",
    "# преобразуем данные в Voits в int\n",
    "data['Votes'] = pd.to_numeric(data['Votes'], errors='coerce')\n",
    "data['Votes']"
   ]
  },
  {
   "cell_type": "code",
   "execution_count": 274,
   "id": "141a405a",
   "metadata": {},
   "outputs": [
    {
     "data": {
      "text/plain": [
       "0     125\n",
       "1      88\n",
       "2      89\n",
       "3     106\n",
       "4     117\n",
       "     ... \n",
       "80     92\n",
       "81     88\n",
       "82     83\n",
       "83     78\n",
       "84     83\n",
       "Name: Runtime, Length: 85, dtype: int64"
      ]
     },
     "execution_count": 274,
     "metadata": {},
     "output_type": "execute_result"
    }
   ],
   "source": [
    "# Преобразуем время\n",
    "data = data.replace({'Runtime': r'min'}, {'Runtime': ''}, regex=True)\n",
    "data['Runtime'] = pd.to_numeric(data['Runtime'], errors='coerce')\n",
    "data['Runtime']"
   ]
  },
  {
   "cell_type": "code",
   "execution_count": 275,
   "id": "7b2c9e66",
   "metadata": {},
   "outputs": [
    {
     "data": {
      "text/html": [
       "<div>\n",
       "<style scoped>\n",
       "    .dataframe tbody tr th:only-of-type {\n",
       "        vertical-align: middle;\n",
       "    }\n",
       "\n",
       "    .dataframe tbody tr th {\n",
       "        vertical-align: top;\n",
       "    }\n",
       "\n",
       "    .dataframe thead th {\n",
       "        text-align: right;\n",
       "    }\n",
       "</style>\n",
       "<table border=\"1\" class=\"dataframe\">\n",
       "  <thead>\n",
       "    <tr style=\"text-align: right;\">\n",
       "      <th></th>\n",
       "      <th>Rating</th>\n",
       "      <th>Votes</th>\n",
       "      <th>Gross</th>\n",
       "      <th>Metascore</th>\n",
       "      <th>Year</th>\n",
       "      <th>Runtime</th>\n",
       "    </tr>\n",
       "  </thead>\n",
       "  <tbody>\n",
       "    <tr>\n",
       "      <th>count</th>\n",
       "      <td>85.000000</td>\n",
       "      <td>8.500000e+01</td>\n",
       "      <td>50.000000</td>\n",
       "      <td>80.000000</td>\n",
       "      <td>85.000000</td>\n",
       "      <td>85.000000</td>\n",
       "    </tr>\n",
       "    <tr>\n",
       "      <th>mean</th>\n",
       "      <td>7.922353</td>\n",
       "      <td>3.006807e+05</td>\n",
       "      <td>146.741600</td>\n",
       "      <td>80.850000</td>\n",
       "      <td>2003.211765</td>\n",
       "      <td>99.352941</td>\n",
       "    </tr>\n",
       "    <tr>\n",
       "      <th>std</th>\n",
       "      <td>0.257449</td>\n",
       "      <td>2.856683e+05</td>\n",
       "      <td>148.820745</td>\n",
       "      <td>8.965616</td>\n",
       "      <td>15.255830</td>\n",
       "      <td>14.637449</td>\n",
       "    </tr>\n",
       "    <tr>\n",
       "      <th>min</th>\n",
       "      <td>7.600000</td>\n",
       "      <td>2.531900e+04</td>\n",
       "      <td>0.190000</td>\n",
       "      <td>59.000000</td>\n",
       "      <td>1937.000000</td>\n",
       "      <td>66.000000</td>\n",
       "    </tr>\n",
       "    <tr>\n",
       "      <th>25%</th>\n",
       "      <td>7.700000</td>\n",
       "      <td>6.608100e+04</td>\n",
       "      <td>5.067500</td>\n",
       "      <td>74.000000</td>\n",
       "      <td>1995.000000</td>\n",
       "      <td>90.000000</td>\n",
       "    </tr>\n",
       "    <tr>\n",
       "      <th>50%</th>\n",
       "      <td>7.900000</td>\n",
       "      <td>1.978600e+05</td>\n",
       "      <td>131.230000</td>\n",
       "      <td>82.000000</td>\n",
       "      <td>2007.000000</td>\n",
       "      <td>99.000000</td>\n",
       "    </tr>\n",
       "    <tr>\n",
       "      <th>75%</th>\n",
       "      <td>8.100000</td>\n",
       "      <td>4.474470e+05</td>\n",
       "      <td>222.252500</td>\n",
       "      <td>87.000000</td>\n",
       "      <td>2014.000000</td>\n",
       "      <td>107.000000</td>\n",
       "    </tr>\n",
       "    <tr>\n",
       "      <th>max</th>\n",
       "      <td>8.600000</td>\n",
       "      <td>1.100175e+06</td>\n",
       "      <td>608.580000</td>\n",
       "      <td>96.000000</td>\n",
       "      <td>2021.000000</td>\n",
       "      <td>137.000000</td>\n",
       "    </tr>\n",
       "  </tbody>\n",
       "</table>\n",
       "</div>"
      ],
      "text/plain": [
       "          Rating         Votes       Gross  Metascore         Year     Runtime\n",
       "count  85.000000  8.500000e+01   50.000000  80.000000    85.000000   85.000000\n",
       "mean    7.922353  3.006807e+05  146.741600  80.850000  2003.211765   99.352941\n",
       "std     0.257449  2.856683e+05  148.820745   8.965616    15.255830   14.637449\n",
       "min     7.600000  2.531900e+04    0.190000  59.000000  1937.000000   66.000000\n",
       "25%     7.700000  6.608100e+04    5.067500  74.000000  1995.000000   90.000000\n",
       "50%     7.900000  1.978600e+05  131.230000  82.000000  2007.000000   99.000000\n",
       "75%     8.100000  4.474470e+05  222.252500  87.000000  2014.000000  107.000000\n",
       "max     8.600000  1.100175e+06  608.580000  96.000000  2021.000000  137.000000"
      ]
     },
     "execution_count": 275,
     "metadata": {},
     "output_type": "execute_result"
    }
   ],
   "source": [
    "data.describe()"
   ]
  },
  {
   "cell_type": "code",
   "execution_count": 276,
   "id": "ad59106d",
   "metadata": {},
   "outputs": [
    {
     "data": {
      "text/html": [
       "<div>\n",
       "<style scoped>\n",
       "    .dataframe tbody tr th:only-of-type {\n",
       "        vertical-align: middle;\n",
       "    }\n",
       "\n",
       "    .dataframe tbody tr th {\n",
       "        vertical-align: top;\n",
       "    }\n",
       "\n",
       "    .dataframe thead th {\n",
       "        text-align: right;\n",
       "    }\n",
       "</style>\n",
       "<table border=\"1\" class=\"dataframe\">\n",
       "  <thead>\n",
       "    <tr style=\"text-align: right;\">\n",
       "      <th></th>\n",
       "      <th>Title</th>\n",
       "      <th>Rating</th>\n",
       "      <th>Votes</th>\n",
       "      <th>Gross_$M</th>\n",
       "      <th>Genre</th>\n",
       "      <th>Metascore</th>\n",
       "      <th>Certificate</th>\n",
       "      <th>Director</th>\n",
       "      <th>Year</th>\n",
       "      <th>Description</th>\n",
       "      <th>Runtime_min</th>\n",
       "    </tr>\n",
       "  </thead>\n",
       "  <tbody>\n",
       "    <tr>\n",
       "      <th>0</th>\n",
       "      <td>Sen to Chihiro no kamikakushi</td>\n",
       "      <td>8.6</td>\n",
       "      <td>747148</td>\n",
       "      <td>10.06</td>\n",
       "      <td>Adventure, Family</td>\n",
       "      <td>96.0</td>\n",
       "      <td>U</td>\n",
       "      <td>Hayao Miyazaki</td>\n",
       "      <td>2001</td>\n",
       "      <td>[\"\\nDuring her family's move to the suburbs, a...</td>\n",
       "      <td>125</td>\n",
       "    </tr>\n",
       "    <tr>\n",
       "      <th>1</th>\n",
       "      <td>The Lion King</td>\n",
       "      <td>8.5</td>\n",
       "      <td>1041158</td>\n",
       "      <td>422.78</td>\n",
       "      <td>Adventure, Drama</td>\n",
       "      <td>88.0</td>\n",
       "      <td>U</td>\n",
       "      <td>Roger Allers</td>\n",
       "      <td>1994</td>\n",
       "      <td>['\\nLion prince Simba and his father are targe...</td>\n",
       "      <td>88</td>\n",
       "    </tr>\n",
       "    <tr>\n",
       "      <th>2</th>\n",
       "      <td>Hotaru no haka</td>\n",
       "      <td>8.5</td>\n",
       "      <td>272469</td>\n",
       "      <td>NaN</td>\n",
       "      <td>Drama, War</td>\n",
       "      <td>94.0</td>\n",
       "      <td>U</td>\n",
       "      <td>Isao Takahata</td>\n",
       "      <td>1988</td>\n",
       "      <td>['\\nA young boy and his little sister struggle...</td>\n",
       "      <td>89</td>\n",
       "    </tr>\n",
       "    <tr>\n",
       "      <th>3</th>\n",
       "      <td>Kimi no na wa.</td>\n",
       "      <td>8.4</td>\n",
       "      <td>259975</td>\n",
       "      <td>5.02</td>\n",
       "      <td>Drama, Fantasy</td>\n",
       "      <td>79.0</td>\n",
       "      <td>U</td>\n",
       "      <td>Makoto Shinkai</td>\n",
       "      <td>2016</td>\n",
       "      <td>['\\nTwo strangers find themselves linked in a ...</td>\n",
       "      <td>106</td>\n",
       "    </tr>\n",
       "    <tr>\n",
       "      <th>4</th>\n",
       "      <td>Spider-Man: Into the Spider-Verse</td>\n",
       "      <td>8.4</td>\n",
       "      <td>510227</td>\n",
       "      <td>190.24</td>\n",
       "      <td>Action, Adventure</td>\n",
       "      <td>87.0</td>\n",
       "      <td>U</td>\n",
       "      <td>Bob Persichetti</td>\n",
       "      <td>2018</td>\n",
       "      <td>['\\nTeen Miles Morales becomes the Spider-Man ...</td>\n",
       "      <td>117</td>\n",
       "    </tr>\n",
       "    <tr>\n",
       "      <th>...</th>\n",
       "      <td>...</td>\n",
       "      <td>...</td>\n",
       "      <td>...</td>\n",
       "      <td>...</td>\n",
       "      <td>...</td>\n",
       "      <td>...</td>\n",
       "      <td>...</td>\n",
       "      <td>...</td>\n",
       "      <td>...</td>\n",
       "      <td>...</td>\n",
       "      <td>...</td>\n",
       "    </tr>\n",
       "    <tr>\n",
       "      <th>80</th>\n",
       "      <td>Kung Fu Panda</td>\n",
       "      <td>7.6</td>\n",
       "      <td>463897</td>\n",
       "      <td>215.43</td>\n",
       "      <td>Action, Adventure</td>\n",
       "      <td>74.0</td>\n",
       "      <td>U</td>\n",
       "      <td>Mark Osborne</td>\n",
       "      <td>2008</td>\n",
       "      <td>[\"\\nTo everyone's surprise, including his own,...</td>\n",
       "      <td>92</td>\n",
       "    </tr>\n",
       "    <tr>\n",
       "      <th>81</th>\n",
       "      <td>Mulan</td>\n",
       "      <td>7.6</td>\n",
       "      <td>284542</td>\n",
       "      <td>120.62</td>\n",
       "      <td>Adventure, Comedy</td>\n",
       "      <td>71.0</td>\n",
       "      <td>U</td>\n",
       "      <td>Tony Bancroft</td>\n",
       "      <td>1998</td>\n",
       "      <td>[\"\\nTo save her father from death in the army,...</td>\n",
       "      <td>88</td>\n",
       "    </tr>\n",
       "    <tr>\n",
       "      <th>82</th>\n",
       "      <td>The Little Mermaid</td>\n",
       "      <td>7.6</td>\n",
       "      <td>260026</td>\n",
       "      <td>111.54</td>\n",
       "      <td>Adventure, Comedy</td>\n",
       "      <td>88.0</td>\n",
       "      <td>U</td>\n",
       "      <td>Ron Clements</td>\n",
       "      <td>1989</td>\n",
       "      <td>[\"\\nA mermaid princess makes a Faustian bargai...</td>\n",
       "      <td>83</td>\n",
       "    </tr>\n",
       "    <tr>\n",
       "      <th>83</th>\n",
       "      <td>The Jungle Book</td>\n",
       "      <td>7.6</td>\n",
       "      <td>181528</td>\n",
       "      <td>141.84</td>\n",
       "      <td>Adventure, Comedy</td>\n",
       "      <td>65.0</td>\n",
       "      <td>U</td>\n",
       "      <td>Wolfgang Reitherman</td>\n",
       "      <td>1967</td>\n",
       "      <td>['\\nBagheera the Panther and Baloo the Bear ha...</td>\n",
       "      <td>78</td>\n",
       "    </tr>\n",
       "    <tr>\n",
       "      <th>84</th>\n",
       "      <td>Snow White and the Seven Dwarfs</td>\n",
       "      <td>7.6</td>\n",
       "      <td>197860</td>\n",
       "      <td>184.93</td>\n",
       "      <td>Adventure, Family</td>\n",
       "      <td>95.0</td>\n",
       "      <td>U</td>\n",
       "      <td>William Cottrell</td>\n",
       "      <td>1937</td>\n",
       "      <td>['\\nExiled into the dangerous forest by her wi...</td>\n",
       "      <td>83</td>\n",
       "    </tr>\n",
       "  </tbody>\n",
       "</table>\n",
       "<p>85 rows × 11 columns</p>\n",
       "</div>"
      ],
      "text/plain": [
       "                                Title  Rating    Votes  Gross_$M  \\\n",
       "0       Sen to Chihiro no kamikakushi     8.6   747148     10.06   \n",
       "1                       The Lion King     8.5  1041158    422.78   \n",
       "2                      Hotaru no haka     8.5   272469       NaN   \n",
       "3                      Kimi no na wa.     8.4   259975      5.02   \n",
       "4   Spider-Man: Into the Spider-Verse     8.4   510227    190.24   \n",
       "..                                ...     ...      ...       ...   \n",
       "80                      Kung Fu Panda     7.6   463897    215.43   \n",
       "81                              Mulan     7.6   284542    120.62   \n",
       "82                 The Little Mermaid     7.6   260026    111.54   \n",
       "83                    The Jungle Book     7.6   181528    141.84   \n",
       "84    Snow White and the Seven Dwarfs     7.6   197860    184.93   \n",
       "\n",
       "                 Genre  Metascore Certificate             Director  Year  \\\n",
       "0    Adventure, Family       96.0           U       Hayao Miyazaki  2001   \n",
       "1     Adventure, Drama       88.0           U         Roger Allers  1994   \n",
       "2           Drama, War       94.0           U        Isao Takahata  1988   \n",
       "3       Drama, Fantasy       79.0           U       Makoto Shinkai  2016   \n",
       "4    Action, Adventure       87.0           U      Bob Persichetti  2018   \n",
       "..                 ...        ...         ...                  ...   ...   \n",
       "80   Action, Adventure       74.0           U         Mark Osborne  2008   \n",
       "81   Adventure, Comedy       71.0           U        Tony Bancroft  1998   \n",
       "82   Adventure, Comedy       88.0           U         Ron Clements  1989   \n",
       "83   Adventure, Comedy       65.0           U  Wolfgang Reitherman  1967   \n",
       "84   Adventure, Family       95.0           U     William Cottrell  1937   \n",
       "\n",
       "                                          Description  Runtime_min  \n",
       "0   [\"\\nDuring her family's move to the suburbs, a...          125  \n",
       "1   ['\\nLion prince Simba and his father are targe...           88  \n",
       "2   ['\\nA young boy and his little sister struggle...           89  \n",
       "3   ['\\nTwo strangers find themselves linked in a ...          106  \n",
       "4   ['\\nTeen Miles Morales becomes the Spider-Man ...          117  \n",
       "..                                                ...          ...  \n",
       "80  [\"\\nTo everyone's surprise, including his own,...           92  \n",
       "81  [\"\\nTo save her father from death in the army,...           88  \n",
       "82  [\"\\nA mermaid princess makes a Faustian bargai...           83  \n",
       "83  ['\\nBagheera the Panther and Baloo the Bear ha...           78  \n",
       "84  ['\\nExiled into the dangerous forest by her wi...           83  \n",
       "\n",
       "[85 rows x 11 columns]"
      ]
     },
     "execution_count": 276,
     "metadata": {},
     "output_type": "execute_result"
    }
   ],
   "source": [
    "# Переменуем колонки для понятия данных\n",
    "data.rename(columns={\"Gross\": \"Gross_$M\"}, inplace=True)\n",
    "data.rename(columns={\"Runtime\": \"Runtime_min\"}, inplace=True)\n",
    "data"
   ]
  },
  {
   "cell_type": "markdown",
   "id": "durable-freeware",
   "metadata": {
    "id": "durable-freeware"
   },
   "source": [
    "1. Вычислите A + B, A - B\n",
    " \n",
    " $\\\\\n",
    "A = \\left(\n",
    "\\begin{array}{cccc}\n",
    "1 & -2 & 4\\\\\n",
    "2 & 0 & -1\\\\\n",
    "\\end{array}\n",
    "\\right), B = \\left(\n",
    "\\begin{array}{cccc}\n",
    "5 & 2 & 3\\\\\n",
    "4 & 6 & 2\\\\\n",
    "\\end{array}\n",
    "\\right)$"
   ]
  },
  {
   "cell_type": "code",
   "execution_count": 232,
   "id": "ade5e65e",
   "metadata": {},
   "outputs": [],
   "source": [
    "import numpy as np\n",
    "A = np.array([[1, -2, 4], [2, 0, -1]])\n",
    "B = np.array([[5, 2, 3], [4, 6, 2]])"
   ]
  },
  {
   "cell_type": "code",
   "execution_count": 233,
   "id": "47105384",
   "metadata": {},
   "outputs": [
    {
     "data": {
      "text/plain": [
       "array([[6, 0, 7],\n",
       "       [6, 6, 1]])"
      ]
     },
     "execution_count": 233,
     "metadata": {},
     "output_type": "execute_result"
    }
   ],
   "source": [
    "A + B"
   ]
  },
  {
   "cell_type": "code",
   "execution_count": 234,
   "id": "e3364d4a",
   "metadata": {},
   "outputs": [
    {
     "data": {
      "text/plain": [
       "array([[-4, -4,  1],\n",
       "       [-2, -6, -3]])"
      ]
     },
     "execution_count": 234,
     "metadata": {},
     "output_type": "execute_result"
    }
   ],
   "source": [
    "A - B"
   ]
  },
  {
   "cell_type": "markdown",
   "id": "certified-andrew",
   "metadata": {
    "id": "certified-andrew"
   },
   "source": [
    "2. Найдите матрицу С = A - 3B\n",
    " \n",
    " $\\\\\n",
    "A = \\left(\n",
    "\\begin{array}{cccc}\n",
    "1 & 2 \\\\\n",
    "2 & -1\\\\\n",
    "3 & 0\\\\\n",
    "\\end{array}\n",
    "\\right), B = \\left(\n",
    "\\begin{array}{cccc}\n",
    "-1 & 1 \\\\\n",
    "1 & 2\\\\\n",
    "0 & 0\\\\\n",
    "\\end{array}\n",
    "\\right)$"
   ]
  },
  {
   "cell_type": "code",
   "execution_count": 238,
   "id": "5650948f",
   "metadata": {},
   "outputs": [
    {
     "data": {
      "text/plain": [
       "array([[ 4, -1],\n",
       "       [-1, -7],\n",
       "       [ 3,  0]])"
      ]
     },
     "execution_count": 238,
     "metadata": {},
     "output_type": "execute_result"
    }
   ],
   "source": [
    "A = np.array([[1, 2], [2, -1], [3, 0]])\n",
    "B = np.array([[-1, 1],[1, 2],[0, 0]])\n",
    "C = A-3*B\n",
    "C"
   ]
  },
  {
   "cell_type": "markdown",
   "id": "motivated-mason",
   "metadata": {
    "id": "motivated-mason"
   },
   "source": [
    "3. Вычислите С = AB\n",
    " \n",
    " $\\\\\n",
    "A = \\left(\n",
    "\\begin{array}{cccc}\n",
    "1 & -1 \\\\\n",
    "2 & 0\\\\\n",
    "3 & 0\\\\\n",
    "\\end{array}\n",
    "\\right), B = \\left(\n",
    "\\begin{array}{cccc}\n",
    "1 & 1 \\\\\n",
    "2 & 0\\\\\n",
    "\\end{array}\n",
    "\\right)$"
   ]
  },
  {
   "cell_type": "code",
   "execution_count": 239,
   "id": "30edff7a",
   "metadata": {},
   "outputs": [
    {
     "data": {
      "text/plain": [
       "array([[-1,  1],\n",
       "       [ 2,  2],\n",
       "       [ 3,  3]])"
      ]
     },
     "execution_count": 239,
     "metadata": {},
     "output_type": "execute_result"
    }
   ],
   "source": [
    "A = np.array([[1, -1], [2, 0], [3, 0]])\n",
    "B = np.array([[1, 1],[2, 0]])\n",
    "C = A@B\n",
    "C"
   ]
  },
  {
   "cell_type": "markdown",
   "id": "chemical-thomson",
   "metadata": {
    "id": "chemical-thomson"
   },
   "source": [
    "4. Вычислите определитель матрицы А\n",
    " \n",
    " $\\\\\n",
    "A = \\left(\n",
    "\\begin{array}{cccc}\n",
    "6 & -1 & 4\\\\\n",
    "2 & 1 & 10\\\\\n",
    "8 & 0 & 2\\\\\n",
    "\\end{array}\n",
    "\\right)$"
   ]
  },
  {
   "cell_type": "code",
   "execution_count": 249,
   "id": "8ff0df0b",
   "metadata": {},
   "outputs": [
    {
     "data": {
      "text/plain": [
       "-95.99999999999999"
      ]
     },
     "execution_count": 249,
     "metadata": {},
     "output_type": "execute_result"
    }
   ],
   "source": [
    "from scipy import linalg\n",
    "A = np.array([[6, -1, 4], [2, 1, 10], [8, 0, 2]])\n",
    "\n",
    "np.linalg.det(A)"
   ]
  },
  {
   "cell_type": "markdown",
   "id": "unlimited-throw",
   "metadata": {
    "id": "unlimited-throw"
   },
   "source": [
    "5. Вычислите матрицу, обратную матрице А. И покажите, что она действительно является обратной\n",
    " \n",
    " $\\\\\n",
    "A = \\left(\n",
    "\\begin{array}{cccc}\n",
    "3 & 3 & -1\\\\\n",
    "4 & 1 & 3\\\\\n",
    "1 & -2 & -2\\\\\n",
    "\\end{array}\n",
    "\\right)$"
   ]
  },
  {
   "cell_type": "code",
   "execution_count": 253,
   "id": "about-national",
   "metadata": {
    "id": "about-national"
   },
   "outputs": [
    {
     "data": {
      "text/plain": [
       "array([[ 0.07407407,  0.14814815,  0.18518519],\n",
       "       [ 0.2037037 , -0.09259259, -0.24074074],\n",
       "       [-0.16666667,  0.16666667, -0.16666667]])"
      ]
     },
     "execution_count": 253,
     "metadata": {},
     "output_type": "execute_result"
    }
   ],
   "source": [
    "A = np.array([[3, 3, -1], [4, 1, 3], [1, -2, -2]])\n",
    "np.linalg.inv(A)"
   ]
  }
 ],
 "metadata": {
  "colab": {
   "name": "ДЗ. Numpy и Pandas.ipynb",
   "provenance": []
  },
  "kernelspec": {
   "display_name": "Python 3 (ipykernel)",
   "language": "python",
   "name": "python3"
  },
  "language_info": {
   "codemirror_mode": {
    "name": "ipython",
    "version": 3
   },
   "file_extension": ".py",
   "mimetype": "text/x-python",
   "name": "python",
   "nbconvert_exporter": "python",
   "pygments_lexer": "ipython3",
   "version": "3.9.12"
  }
 },
 "nbformat": 4,
 "nbformat_minor": 5
}
